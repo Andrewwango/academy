{
 "cells": [
  {
   "cell_type": "markdown",
   "metadata": {},
   "source": [
    "# Github Challenges\n",
    "\n",
    "In this booklet we'll be laying out some useful challenges for you guys with Github. That you may have to do in a real project. "
   ]
  },
  {
   "cell_type": "markdown",
   "metadata": {},
   "source": [
    "# Installing Git\n",
    "\n",
    "As part of the Engineering Academy you should hopefully already have git installed locally. If not you can follow this simple step. \n",
    "\n",
    "Open your terminal and type the command 'git --version', if you havent got it installed it should prompt you to do so\n",
    "\n",
    "Or \n",
    "\n",
    "you can use brew to install git with this command 'brew install git'\n",
    "\n",
    "If you have any issues please reach out to one of the mentors for support!"
   ]
  },
  {
   "cell_type": "markdown",
   "metadata": {},
   "source": [
    "# Challenges\n",
    "\n",
    "In this section we will have a number of git hub challenges that around general set up of a repro"
   ]
  },
  {
   "cell_type": "markdown",
   "metadata": {},
   "source": [
    "1 - Githooks - git hooks are custom scripts that are ran with certain git actions occur. You can access these git hooks within the .git/ file under hooks/. For more information about git hooks please check this link (https://git-scm.com/book/en/v2/Customizing-Git-Git-Hooks)\n",
    "\n",
    "Your task is to create a git hook that is ran before a commit (also known as a pre-commit). This script will need to first check the naming convertion of your branch to match this format: TicketNumber/name of branch. Here is an example 12/Git Hooks Challenge. \n",
    "\n",
    "The script will also need to only check other files within the stash that have the file type .ipynb and delete their outputs. This is done in normal projects to ensure no personal data is uploaded to our repros. We recommend using nbconvert (https://nbconvert.readthedocs.io/en/latest/) for this. \n",
    "\n",
    "If both these task complete successfully then the stash can be successfully committed. If either or both fail then the stash isnt committed. "
   ]
  },
  {
   "cell_type": "code",
   "execution_count": 1,
   "metadata": {},
   "outputs": [
    {
     "name": "stdout",
     "output_type": "stream",
     "text": [
      "Delete my output\n"
     ]
    }
   ],
   "source": [
    "print(\"Delete my output\")"
   ]
  },
  {
   "cell_type": "markdown",
   "metadata": {},
   "source": [
    "2 - Git hub actions pipeline - we want you guys to create a CI - pipeline for your repros, it must install be able to install dependencies via a requirements.txt, have a security check (recommend bandit), test coverage check with report and finally complexity check. For the test coverage you can create a simple unit test file that tests a basic method"
   ]
  },
  {
   "cell_type": "markdown",
   "metadata": {},
   "source": [
    "3 - Set up a branch protection rule to ensure PRs to master must have atleast 1 approval from a different developer"
   ]
  }
 ],
 "metadata": {
  "interpreter": {
   "hash": "aee8b7b246df8f9039afb4144a1f6fd8d2ca17a180786b69acc140d282b71a49"
  },
  "kernelspec": {
   "display_name": "Python 3 (ipykernel)",
   "language": "python",
   "name": "python3"
  },
  "language_info": {
   "codemirror_mode": {
    "name": "ipython",
    "version": 3
   },
   "file_extension": ".py",
   "mimetype": "text/x-python",
   "name": "python",
   "nbconvert_exporter": "python",
   "pygments_lexer": "ipython3",
   "version": "3.10.4"
  }
 },
 "nbformat": 4,
 "nbformat_minor": 4
}
