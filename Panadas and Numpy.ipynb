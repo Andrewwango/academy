{
 "cells": [
  {
   "cell_type": "markdown",
   "metadata": {},
   "source": [
    "# Python Pandas and  Numpy \n",
    "\n",
    "## Contents\n",
    "    1. Pandas\n",
    "    2. Numpy"
   ]
  },
  {
   "cell_type": "markdown",
   "metadata": {},
   "source": [
    "### 1. Pandas\n",
    "\n",
    "Now let's use the [Pandas](https://pandas.pydata.org/pandas-docs/stable/index.html) library to create a Dataframe object and see what functions we can call on it.  Pandas is a very useful library for storing and manipulating data."
   ]
  },
  {
   "cell_type": "code",
   "execution_count": null,
   "metadata": {},
   "outputs": [],
   "source": [
    "# Import the DataFrame class from the Pandas library\n",
    "from pandas import DataFrame\n",
    "\n",
    "shopping_list = {\n",
    "    'milk': 1.2,\n",
    "    'eggs': 0.99,\n",
    "    'bread': 1.39\n",
    "}\n",
    "\n",
    "# Create a DataFrame object from our shopping list\n",
    "data = DataFrame(data=shopping_list.items(), columns= ['Items', 'Price'])\n",
    "data"
   ]
  },
  {
   "cell_type": "markdown",
   "metadata": {},
   "source": [
    "The dataframe object has many methods that can be called.  The `describe` method generates statistics like maximum value, how many values are there and quartile ranges."
   ]
  },
  {
   "cell_type": "code",
   "execution_count": null,
   "metadata": {},
   "outputs": [],
   "source": [
    "data.describe()"
   ]
  },
  {
   "cell_type": "markdown",
   "metadata": {},
   "source": [
    "And `head` returns the top 5 items in the dataframe unless another value is specified.  Because there are only 3 items, we pass in 2 to only see the top 2 records in our dataframe.  (This is a perfect example of a default value!)\n",
    "\n",
    "Both of these functions belong to the dataframe object"
   ]
  },
  {
   "cell_type": "code",
   "execution_count": null,
   "metadata": {},
   "outputs": [],
   "source": [
    "data.head(10)"
   ]
  },
  {
   "cell_type": "markdown",
   "metadata": {},
   "source": [
    "Some functions are more useful when they are called on one column of the data.  Much like in a dictionary, we can select a column in our dataframe with the following code:"
   ]
  },
  {
   "cell_type": "code",
   "execution_count": null,
   "metadata": {},
   "outputs": [],
   "source": [
    "data['Items']"
   ]
  },
  {
   "cell_type": "markdown",
   "metadata": {},
   "source": [
    "And now we can call some methods on specific columns instead of the whole dataset."
   ]
  },
  {
   "cell_type": "code",
   "execution_count": null,
   "metadata": {},
   "outputs": [],
   "source": [
    "data['Price'].max()"
   ]
  },
  {
   "cell_type": "code",
   "execution_count": null,
   "metadata": {},
   "outputs": [],
   "source": [
    "data['Price'].sum()"
   ]
  },
  {
   "cell_type": "markdown",
   "metadata": {},
   "source": [
    "### 2 Numpy\n",
    "\n",
    " It's basically a library that gives you powerful access over multi-dimensional arrays. This will be particularly useful for vision processing when we want to represent and image in numerical form.\n",
    "\n",
    "There's not a lot to it, but you can read more about it here: https://numpy.org/doc/\n",
    "\n",
    "Below we create a Numpy array of numbers from 1 to 10."
   ]
  },
  {
   "cell_type": "code",
   "execution_count": null,
   "metadata": {},
   "outputs": [],
   "source": [
    "import numpy as np\n",
    "\n",
    "numpy_test = np.arange(1, 11)\n",
    "print(numpy_test)"
   ]
  },
  {
   "cell_type": "markdown",
   "metadata": {},
   "source": [
    "Numpy has several built-in manipulation functions, including `reshape(x,y)`, where `x` is the number of rows and `y` is the number of columns. The product of x and y must equal the product of the rows and columns of the orginal array."
   ]
  },
  {
   "cell_type": "code",
   "execution_count": null,
   "metadata": {},
   "outputs": [],
   "source": [
    "numpy_test.reshape(2,5)"
   ]
  },
  {
   "cell_type": "markdown",
   "metadata": {},
   "source": [
    "We can also specify the step size as a third parameter in `arange`."
   ]
  },
  {
   "cell_type": "code",
   "execution_count": null,
   "metadata": {},
   "outputs": [],
   "source": [
    "numpy_test = np.arange(0, 10, 0.5)\n",
    "print(numpy_test)"
   ]
  }
 ],
 "metadata": {
  "interpreter": {
   "hash": "aee8b7b246df8f9039afb4144a1f6fd8d2ca17a180786b69acc140d282b71a49"
  },
  "kernelspec": {
   "display_name": "Python 3 (ipykernel)",
   "language": "python",
   "name": "python3"
  },
  "language_info": {
   "codemirror_mode": {
    "name": "ipython",
    "version": 3
   },
   "file_extension": ".py",
   "mimetype": "text/x-python",
   "name": "python",
   "nbconvert_exporter": "python",
   "pygments_lexer": "ipython3",
   "version": "3.10.4"
  }
 },
 "nbformat": 4,
 "nbformat_minor": 4
}
