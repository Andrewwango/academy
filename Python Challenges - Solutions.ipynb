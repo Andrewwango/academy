{
 "cells": [
  {
   "cell_type": "markdown",
   "metadata": {
    "colab_type": "text",
    "id": "wHddMMtFx4AJ"
   },
   "source": [
    "# Solutions\n",
    "\n",
    "# 1. Reverse a string\n",
    "\n",
    "Write a function that takes a string and input and returns the exact string in reverse."
   ]
  },
  {
   "cell_type": "code",
   "execution_count": null,
   "metadata": {
    "colab": {},
    "colab_type": "code",
    "id": "M2-a3dOvx4AK"
   },
   "outputs": [],
   "source": [
    "def reverse_string(string):\n",
    "    return_value = ''\n",
    "    for i in range(0, len(string)):\n",
    "        return_value += string[-1 * (i + 1)]\n",
    "    return return_value"
   ]
  },
  {
   "cell_type": "code",
   "execution_count": null,
   "metadata": {
    "colab": {},
    "colab_type": "code",
    "id": "KLjMpVrbx4AN"
   },
   "outputs": [],
   "source": [
    "def reverse_string(string):\n",
    "    return string[::-1]"
   ]
  },
  {
   "cell_type": "code",
   "execution_count": null,
   "metadata": {
    "colab": {
     "base_uri": "https://localhost:8080/",
     "height": 34
    },
    "colab_type": "code",
    "executionInfo": {
     "elapsed": 791,
     "status": "ok",
     "timestamp": 1563364402924,
     "user": {
      "displayName": "AICamp 2019",
      "photoUrl": "",
      "userId": "07433397555373910114"
     },
     "user_tz": -60
    },
    "id": "hLBI7fwQx4AO",
    "outputId": "5decafd8-c79a-4534-f86d-9b636d7b9eb3"
   },
   "outputs": [],
   "source": [
    "# Reverse string tests\n",
    "if (reverse_string('Test') == 'tseT' and\n",
    "    reverse_string('Hello, world!') == '!dlrow ,olleH' and\n",
    "    reverse_string('Test') == 'tseT'):\n",
    "    print ('Success')\n",
    "else:\n",
    "    print ('Fail')"
   ]
  },
  {
   "cell_type": "markdown",
   "metadata": {
    "colab_type": "text",
    "id": "hQ3Gs-1ux4AS"
   },
   "source": [
    "# 2. Convert string to appropriate type\n",
    "\n",
    "Write a function that converts a string to either an int or a float, depending on if it has a decimal point. It should return 0 for invalid input.\n",
    "\n",
    "E.g.\n",
    "\n",
    "    convert('1.5') -> 1.5\n",
    "    convert('780') -> 780"
   ]
  },
  {
   "cell_type": "code",
   "execution_count": null,
   "metadata": {
    "colab": {},
    "colab_type": "code",
    "id": "VhqjA2PCx4AT"
   },
   "outputs": [],
   "source": [
    "def convert(string):\n",
    "    # Default to 0\n",
    "    return_value = 0\n",
    "\n",
    "    # Try to convert to float - will turn any numeric values into floats but break for words\n",
    "    try:\n",
    "        return_value = float(string)\n",
    "    except ValueError:\n",
    "        print ('It wasn\\'t numeric')\n",
    "\n",
    "    # If there is no difference between the float version and the int version, then it's an int\n",
    "    if (return_value - int(return_value)) == 0.0:\n",
    "        return_value = int(return_value)\n",
    "\n",
    "    return return_value"
   ]
  },
  {
   "cell_type": "code",
   "execution_count": null,
   "metadata": {
    "colab": {
     "base_uri": "https://localhost:8080/",
     "height": 51
    },
    "colab_type": "code",
    "executionInfo": {
     "elapsed": 1110,
     "status": "ok",
     "timestamp": 1563364403252,
     "user": {
      "displayName": "AICamp 2019",
      "photoUrl": "",
      "userId": "07433397555373910114"
     },
     "user_tz": -60
    },
    "id": "GqYBUgEVx4AV",
    "outputId": "ea346cbf-5d41-4434-e4b1-7562df2d6a5c"
   },
   "outputs": [],
   "source": [
    "# Convert tests\n",
    "if (convert('1.5') == 1.5 and\n",
    "    convert('780') == 780 and\n",
    "    convert('pupper') == 0 and\n",
    "    convert('-28.07') == -28.07):\n",
    "    print ('Success')\n",
    "else:\n",
    "    print ('Fail')"
   ]
  },
  {
   "cell_type": "markdown",
   "metadata": {
    "colab_type": "text",
    "id": "WE9d1f--x4AX"
   },
   "source": [
    "# 3. What can I afford?\n",
    "\n",
    "Write a function that takes a dictionary of shopping items with their associated cost, and a float (your budget), and return a dictionary with the items you can afford with the given budget. Maximise the number of items to be bought."
   ]
  },
  {
   "cell_type": "code",
   "execution_count": null,
   "metadata": {
    "colab": {},
    "colab_type": "code",
    "id": "HpE0vkHZx4AY"
   },
   "outputs": [],
   "source": [
    "import operator\n",
    "\n",
    "def afford(shopping_items, budget):\n",
    "    # Sort items with cheapest first. NB: sorted() creates a list of tuples (not a dict)\n",
    "    sorted_items = sorted(shopping_items.items(), key=operator.itemgetter(1))\n",
    "    \n",
    "    # Create empty dict to keep track of items\n",
    "    return_items = {}\n",
    "    \n",
    "    # For every item in the shopping list\n",
    "    for item, price in sorted_items:\n",
    "        # Add the item if we have the budget for it\n",
    "        budget -= price\n",
    "        if budget >= 0:\n",
    "            return_items[item] = price\n",
    "    return return_items"
   ]
  },
  {
   "cell_type": "code",
   "execution_count": null,
   "metadata": {
    "colab": {
     "base_uri": "https://localhost:8080/",
     "height": 34
    },
    "colab_type": "code",
    "executionInfo": {
     "elapsed": 1121,
     "status": "ok",
     "timestamp": 1566219524917,
     "user": {
      "displayName": "AICamp 2019",
      "photoUrl": "",
      "userId": "07433397555373910114"
     },
     "user_tz": -60
    },
    "id": "5RxyEGBWx4AZ",
    "outputId": "7cf882d4-b52c-4e98-a528-bc8f4d052be6"
   },
   "outputs": [],
   "source": [
    "# Afford tests\n",
    "afford1 = {\n",
    "    'ketchup': 1.69,\n",
    "    'crisps multipack': 3.50,\n",
    "    'beer': 3.99,\n",
    "    'bread': 0.99,\n",
    "    'salad': 1.20,\n",
    "    'beans': 0.8\n",
    "}\n",
    "afford1_result = {\n",
    "    'ketchup': 1.69,\n",
    "    'crisps multipack': 3.50,\n",
    "    'bread': 0.99,\n",
    "    'salad': 1.20,\n",
    "    'beans': 0.8\n",
    "}\n",
    "budget1 = 10.0\n",
    "\n",
    "afford2 = {\n",
    "    'birthday card': 2.99,\n",
    "    'makeup': 8.00,\n",
    "    'charms': 75.00\n",
    "}\n",
    "afford2_result = {\n",
    "    'birthday card': 2.99,\n",
    "    'makeup': 8.00,\n",
    "    'charms': 75.00\n",
    "}\n",
    "budget2 = 99.99\n",
    "\n",
    "afford3 = {\n",
    "    'tv': 349.0,\n",
    "    'ps4': 280.0,\n",
    "    'sound bar': 99.0,\n",
    "    'games': 100.0,\n",
    "    'accessories': 49.0\n",
    "}\n",
    "afford3_result = {\n",
    "    'sound bar': 99.0,\n",
    "    'games': 100.0,\n",
    "    'accessories': 49.0\n",
    "}\n",
    "budget3 = 500.0\n",
    "\n",
    "if (afford(afford1, budget1) == afford1_result and\n",
    "    afford(afford2, budget2) == afford2_result and\n",
    "    afford(afford3, budget3) == afford3_result):\n",
    "    print ('Success')\n",
    "else:\n",
    "    print ('Fail')"
   ]
  },
  {
   "cell_type": "markdown",
   "metadata": {
    "colab_type": "text",
    "id": "PZf9U0kIx4Ab"
   },
   "source": [
    "# 4. Sin and Cos graph\n",
    "\n",
    "Create a graph using matplotlib that plots both a Sin and Cos wave from x = 0 to x = 10. It should look something like this:\n",
    "\n",
    "![Sin and Cos plotted](waves.png)\n",
    "\n",
    "Note: Numpy might come in handy!\n"
   ]
  },
  {
   "cell_type": "code",
   "execution_count": null,
   "metadata": {
    "colab": {
     "base_uri": "https://localhost:8080/",
     "height": 269
    },
    "colab_type": "code",
    "executionInfo": {
     "elapsed": 1096,
     "status": "ok",
     "timestamp": 1563364403256,
     "user": {
      "displayName": "AICamp 2019",
      "photoUrl": "",
      "userId": "07433397555373910114"
     },
     "user_tz": -60
    },
    "id": "i6vDYIjpx4Ac",
    "outputId": "570575a7-a9a1-4cd0-f9d0-5e7847743d9b"
   },
   "outputs": [],
   "source": [
    "%matplotlib inline\n",
    "import matplotlib.pyplot as plt\n",
    "import numpy as np\n",
    "import math\n",
    "\n",
    "# Create a numpy array of values between 0 and 10 with a step of 0.01 in between each number\n",
    "x = np.arange(0, 10, 0.01)\n",
    "\n",
    "# Create an array for y = sin(x)\n",
    "y = []\n",
    "for value in np.nditer(x):\n",
    "    y.append(math.sin(value))\n",
    "\n",
    "# Plot this line on the graph\n",
    "plt.plot(x, y)\n",
    "\n",
    "# Create an array for y = cos(x)\n",
    "y = []\n",
    "for value in np.nditer(x):\n",
    "    y.append(math.cos(value))\n",
    "\n",
    "# Plot this line on the graph\n",
    "plt.plot(x, y)\n",
    "\n",
    "# Display the graph\n",
    "plt.show()"
   ]
  },
  {
   "cell_type": "markdown",
   "metadata": {
    "colab_type": "text",
    "id": "BO8pDkcQx4Ae"
   },
   "source": [
    "# 5. Titanic data\n",
    "\n",
    "Download `training.csv` of the Titanic dataset from Kaggle (https://www.kaggle.com/c/titanic/data).\n",
    "\n",
    "Use pandas and other relevant libraries to create the following:\n",
    "\n",
    "- A table of all women and children (people under 18)\n",
    "- A table of all survivors\n",
    "- A graph of ticket price against age\n",
    "\n",
    "You can ignore rows with missing values."
   ]
  },
  {
   "cell_type": "code",
   "execution_count": null,
   "metadata": {
    "colab": {
     "base_uri": "https://localhost:8080/",
     "height": 1000
    },
    "colab_type": "code",
    "executionInfo": {
     "elapsed": 652,
     "status": "ok",
     "timestamp": 1563369311181,
     "user": {
      "displayName": "AICamp 2019",
      "photoUrl": "",
      "userId": "07433397555373910114"
     },
     "user_tz": -60
    },
    "id": "E8P4gNu_x4Af",
    "outputId": "6ba52965-c184-4efd-dd14-47d5edc26229"
   },
   "outputs": [],
   "source": [
    "# Women and children\n",
    "import pandas as pd\n",
    "data = pd.read_csv('train.csv')\n",
    "\n",
    "# Get all women\n",
    "women = data[data['Sex'] == 'female']\n",
    "\n",
    "# Get all children\n",
    "children = data[data['Age'] < 18]\n",
    "\n",
    "# Get all males from children (otherwise there would be duplicates)\n",
    "children_male = children[children['Sex'] == 'male']\n",
    "\n",
    "# Concatenate the male children onto the women table\n",
    "pd.concat([women, children_male])"
   ]
  },
  {
   "cell_type": "code",
   "execution_count": null,
   "metadata": {
    "colab": {
     "base_uri": "https://localhost:8080/",
     "height": 581
    },
    "colab_type": "code",
    "executionInfo": {
     "elapsed": 669,
     "status": "ok",
     "timestamp": 1563369326225,
     "user": {
      "displayName": "AICamp 2019",
      "photoUrl": "",
      "userId": "07433397555373910114"
     },
     "user_tz": -60
    },
    "id": "OEnb_vQPx4Ah",
    "outputId": "7d4af461-48a9-49d9-8b1a-c61a36537578"
   },
   "outputs": [],
   "source": [
    "# Survivors\n",
    "import pandas as pd\n",
    "data = pd.read_csv('train.csv')\n",
    "\n",
    "survivors = data[data['Survived'] == 1]\n",
    "\n",
    "survivors.head()"
   ]
  },
  {
   "cell_type": "code",
   "execution_count": null,
   "metadata": {
    "colab": {
     "base_uri": "https://localhost:8080/",
     "height": 269
    },
    "colab_type": "code",
    "executionInfo": {
     "elapsed": 616,
     "status": "ok",
     "timestamp": 1563369327944,
     "user": {
      "displayName": "AICamp 2019",
      "photoUrl": "",
      "userId": "07433397555373910114"
     },
     "user_tz": -60
    },
    "id": "EQ2TudxNx4Ak",
    "outputId": "aa17e84d-a174-4354-c77a-abdea15335a9"
   },
   "outputs": [],
   "source": [
    "# Graph of ticket price against age\n",
    "%matplotlib inline\n",
    "import matplotlib.pyplot as plt\n",
    "import pandas as pd\n",
    "data = pd.read_csv('train.csv')\n",
    "\n",
    "# Set x and y axis to age and fare columns\n",
    "x = data['Age']\n",
    "y = data['Fare']\n",
    "\n",
    "# There are different types of plt charts, we will try scatter\n",
    "plt.scatter(x, y)\n",
    "plt.show()"
   ]
  },
  {
   "cell_type": "markdown",
   "metadata": {},
   "source": [
    "Pandas Solutions"
   ]
  },
  {
   "cell_type": "code",
   "execution_count": null,
   "metadata": {
    "colab": {},
    "colab_type": "code",
    "id": "ncTa7KPKx4Am"
   },
   "outputs": [],
   "source": [
    "#1\n",
    "import pandas as pd\n",
    "import numpy as np\n",
    "np.random.RandomState(100)\n",
    "num_series = pd.Series(np.random.randint(1, 5, [15]))\n",
    "print(\"Original Series:\")\n",
    "print(num_series)\n",
    "print(\"Top 2 Freq:\", num_series.value_counts())\n",
    "result = num_series[~num_series.isin(num_series.value_counts().index[:1])] = 'Other'\n",
    "print(num_series)"
   ]
  },
  {
   "cell_type": "code",
   "execution_count": null,
   "metadata": {},
   "outputs": [],
   "source": [
    "#2\n",
    "# Solution 1: Use chunks and for-loop\n",
    "df = pd.read_csv('https://raw.githubusercontent.com/selva86/datasets/master/BostonHousing.csv', chunksize=50)\n",
    "df2 = pd.DataFrame()\n",
    "for chunk in df:\n",
    "    df2 = df2.append(chunk.iloc[0,:])\n",
    "\n",
    "\n",
    "# Solution 2: Use chunks and list comprehension\n",
    "df = pd.read_csv('https://raw.githubusercontent.com/selva86/datasets/master/BostonHousing.csv', chunksize=50)\n",
    "df2 = pd.concat([chunk.iloc[0] for chunk in df], axis=1)\n",
    "df2 = df2.transpose()\n",
    "\n",
    "# Solution 3: Use csv reader\n",
    "import csv          \n",
    "with open('BostonHousing.csv', 'r') as f:\n",
    "    reader = csv.reader(f)\n",
    "    out = []\n",
    "    for i, row in enumerate(reader):\n",
    "        if i%50 == 0:\n",
    "            out.append(row)\n",
    "\n",
    "df2 = pd.DataFrame(out[1:], columns=out[0])\n",
    "print(df2.head())"
   ]
  },
  {
   "cell_type": "code",
   "execution_count": null,
   "metadata": {},
   "outputs": [],
   "source": [
    "#3\n",
    "L = pd.Series(range(15))\n",
    "\n",
    "def gen_strides(a, stride_len=5, window_len=5):\n",
    "    n_strides = ((a.size-window_len)//stride_len) + 1\n",
    "    return np.array([a[s:(s+window_len)] for s in np.arange(0, a.size, stride_len)[:n_strides]])\n",
    "\n",
    "gen_strides(L, stride_len=2, window_len=4)"
   ]
  }
 ],
 "metadata": {
  "colab": {
   "collapsed_sections": [],
   "name": "Python Challenges - Solutions.ipynb",
   "provenance": [],
   "toc_visible": true,
   "version": "0.3.2"
  },
  "interpreter": {
   "hash": "aee8b7b246df8f9039afb4144a1f6fd8d2ca17a180786b69acc140d282b71a49"
  },
  "kernelspec": {
   "display_name": "Python 3 (ipykernel)",
   "language": "python",
   "name": "python3"
  },
  "language_info": {
   "codemirror_mode": {
    "name": "ipython",
    "version": 3
   },
   "file_extension": ".py",
   "mimetype": "text/x-python",
   "name": "python",
   "nbconvert_exporter": "python",
   "pygments_lexer": "ipython3",
   "version": "3.10.4"
  }
 },
 "nbformat": 4,
 "nbformat_minor": 4
}
