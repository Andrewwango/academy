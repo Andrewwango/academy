{
 "cells": [
  {
   "cell_type": "markdown",
   "metadata": {
    "colab_type": "text",
    "id": "JklhwuplPanh"
   },
   "source": [
    "# Linear Regression - Iris Dataset: Predicting Petal width based on Petal length\n",
    "\n",
    "The Iris Dataset is 'perhaps the best known database to be found in the pattern recognition literature. The data set contains 3 classes of 50 instances each, where each class refers to a type of iris plant.'\n",
    "\n",
    "<br>\n",
    "\n",
    "Before we get started we need to import the following libraries:\n",
    "\n",
    "1. Pandas  - Library providing high-performance, easy-to-use data structures and data analysis tools.\n",
    "2. Numpy  -  Fundamental package for scientific computing with Python\n",
    "3. SKLearn - Simple and efficient tools for data mining and data analysis"
   ]
  },
  {
   "cell_type": "code",
   "execution_count": null,
   "metadata": {
    "colab": {},
    "colab_type": "code",
    "id": "5RROCWkxa_yb"
   },
   "outputs": [],
   "source": [
    "# Import all the necessary libraries\n",
    "\n",
    "import pandas as pd\n",
    "import numpy as np\n",
    "from sklearn.linear_model import LinearRegression\n",
    "from sklearn.model_selection import train_test_split\n",
    "from sklearn.metrics import explained_variance_score, max_error, r2_score\n",
    "import plotly.express as px"
   ]
  },
  {
   "cell_type": "markdown",
   "metadata": {
    "colab_type": "text",
    "id": "5NxMDLSiVrDc"
   },
   "source": [
    "## Load Dataset\n",
    "\n",
    "TODO:\n",
    "\n",
    "- View the dataset \n",
    "- View the Summary Statistics\n",
    "- Visualizing the data in a scatter graph"
   ]
  },
  {
   "cell_type": "code",
   "execution_count": null,
   "metadata": {
    "colab": {},
    "colab_type": "code",
    "id": "wBANK3JdbCik"
   },
   "outputs": [],
   "source": [
    "\n",
    "# Instatiate the dataset \n",
    "df = px.data.iris()\n",
    "\n",
    "#Now view the number of rows and columns in the dataframe using .shape\n",
    "df.shape"
   ]
  },
  {
   "cell_type": "code",
   "execution_count": null,
   "metadata": {
    "colab": {},
    "colab_type": "code",
    "id": "bOWzmo-Q-vJy"
   },
   "outputs": [],
   "source": [
    "# View the first 10 rows in the dataset\n",
    "df.head(10)"
   ]
  },
  {
   "cell_type": "code",
   "execution_count": null,
   "metadata": {
    "colab": {},
    "colab_type": "code",
    "id": "Uv_ZgV9nATk3"
   },
   "outputs": [],
   "source": [
    "# View the Summary Statistics for the numeric columns in the dataset\n",
    "df.describe()"
   ]
  },
  {
   "cell_type": "markdown",
   "metadata": {
    "colab_type": "text",
    "id": "bSlQ8gVMJCUO"
   },
   "source": [
    "## Visualizing Data\n",
    "Scatter plots show how much one variable is affected by another. The relationship between two variables is called their correlation.\n",
    "\n",
    "<br>\n",
    "\n",
    "Create a correlation matrix between all the variables in the dataset using Pearson correlation coefficients\n",
    "\n",
    "Create a scatter plot using Plotly with the `petal_width` and `petal_length` data"
   ]
  },
  {
   "cell_type": "code",
   "execution_count": null,
   "metadata": {},
   "outputs": [],
   "source": [
    "#Create Pearson Correlation matrix\n",
    "df.corr()"
   ]
  },
  {
   "cell_type": "code",
   "execution_count": null,
   "metadata": {
    "colab": {},
    "colab_type": "code",
    "id": "0T-28XXSn_QE"
   },
   "outputs": [],
   "source": [
    "#Create scatter graph\n",
    "px.scatter(df, x=\"petal_width\", y=\"petal_length\")"
   ]
  },
  {
   "cell_type": "markdown",
   "metadata": {
    "colab_type": "text",
    "id": "aub45RtaVyRl"
   },
   "source": [
    "## Manipulating the Data\n",
    "\n",
    "Pandas Dataframe has the indexer *iloc* that is used to select rows and columns by number.\n",
    "\n",
    "The syntax is `data.iloc[<row_selection>][<column_selection>]`\n",
    "\n",
    "Example: `data.iloc([0, 2], [1, 3])` will retrieve the rows indexed 0 and 2, and the columns indexed with 1 and 3."
   ]
  },
  {
   "cell_type": "code",
   "execution_count": null,
   "metadata": {
    "colab": {},
    "colab_type": "code",
    "id": "fRvLHjnNRWZE"
   },
   "outputs": [],
   "source": [
    "# Now we use iloc to separate the X and Y values of our dataset\n",
    "\n",
    "X = df.iloc[:,2].values # Retrieve the third column from the dataset, i.e. petal_length\n",
    "Y = df.iloc[:,3].values # Retrieve the fourth column from the dataset, i.e. petal_width\n",
    "\n",
    "# Reshape the arrays so that they have the right structure the library expects\n",
    "# When fitting the model, we need a 2D array so that each row of data\n",
    "# from the original data source is in its own array\n",
    "\n",
    "X = X.reshape(-1, 1)\n",
    "Y = Y.reshape(-1, 1)\n",
    "\n",
    "# To better understand what reshape is doing, try printing X and Y values \n",
    "# before and after applying the reshape function\n",
    "\n"
   ]
  },
  {
   "cell_type": "markdown",
   "metadata": {
    "colab_type": "text",
    "id": "rmTWQB4JXCMG"
   },
   "source": [
    "## Split the Data\n",
    "We need to split the dataset into training and validation data. The training set is much larger than the test set as the model will achieve a higher accuracy with more data to look at. Validation only needs to be a smaller percentage of the overall set, the model will not have seen the validation set during training, so we can use it to test if the model is predicting correctly."
   ]
  },
  {
   "cell_type": "code",
   "execution_count": null,
   "metadata": {
    "colab": {},
    "colab_type": "code",
    "id": "or1ywiqpbYTl"
   },
   "outputs": [],
   "source": [
    "# We can use the SKLearn train_test_split method to do the split\n",
    "x_train, x_test, y_train, y_test = train_test_split(X, Y, test_size=0.3, random_state=0)\n"
   ]
  },
  {
   "cell_type": "markdown",
   "metadata": {
    "colab_type": "text",
    "id": "QbMlA5qrXaKz"
   },
   "source": [
    "## Define and train the model\n",
    "We now need to create the classifier that we will use and train it with our data. \n",
    "\n",
    "We have imported the Linear Regression classifier in at the top, so can go ahead and use it - further information about this classifier and its parameters can be found [here](https://scikit-learn.org/stable/modules/generated/sklearn.linear_model.LinearRegression.html).\n",
    "\n",
    "To Do:\n",
    "- Fit the model\n",
    "- Predict the GPA values for the test data given\n",
    "- Find out how accurate our model was "
   ]
  },
  {
   "cell_type": "code",
   "execution_count": null,
   "metadata": {
    "colab": {
     "base_uri": "https://localhost:8080/",
     "height": 34
    },
    "colab_type": "code",
    "id": "TYq87PBghG9g",
    "outputId": "01c3f03a-3e95-4bcb-ebcd-4717df3d0ee3"
   },
   "outputs": [],
   "source": [
    "# Create our model using linear regression\n",
    "model = LinearRegression(fit_intercept=True, normalize=True)\n",
    "\n",
    "# To train the model we use the .fit method on the model, this will take in both out x and y training data as its parameters\n",
    "# Go ahead and train the model\n"
   ]
  },
  {
   "cell_type": "markdown",
   "metadata": {
    "colab_type": "text",
    "id": "Jyeu-J913JoK"
   },
   "source": [
    "## Test the model"
   ]
  },
  {
   "cell_type": "code",
   "execution_count": null,
   "metadata": {
    "colab": {
     "base_uri": "https://localhost:8080/",
     "height": 459
    },
    "colab_type": "code",
    "id": "n_PhofCMi6oV",
    "outputId": "6f1dd750-fa1e-424e-a52d-57cbc36c92b7"
   },
   "outputs": [],
   "source": [
    "# Now we want to predict the petal width values on the test petal length dataset\n",
    "# We can use the .predict method on the model and this will take in out x_test data - give it a try\n",
    "predictions = \n",
    "\n",
    "#Print out the predictions\n"
   ]
  },
  {
   "cell_type": "code",
   "execution_count": null,
   "metadata": {
    "colab": {
     "base_uri": "https://localhost:8080/",
     "height": 459
    },
    "colab_type": "code",
    "id": "Yj1j-9YJoHyo",
    "outputId": "937cf434-48d0-4f31-d89c-b99f9cc92ffc"
   },
   "outputs": [],
   "source": [
    "# Comparing with the actual petal width values from the test dataset by printing the y_test data\n"
   ]
  },
  {
   "cell_type": "markdown",
   "metadata": {
    "colab_type": "text",
    "id": "_2aCq3g56UiN"
   },
   "source": [
    "## Metrics\n",
    "\n",
    "When predicting a continuous value like the price of a house or a stock price we can’t use an accuracy metric, so we have to use what is known as the mean squared error (MSE). The MSE is the average squared difference between the actual and predicted values. We want to minimise this to improve our accuracy.  \n",
    "\n",
    "<br>\n",
    "\n",
    "### Score\n",
    "\n",
    "Returns the coefficient of determination R^2 of the prediction.\n",
    "\n",
    "The coefficient R^2 is defined as (1 - u/v), where \n",
    "\n",
    "*   u = residual sum of squares ((y_true - y_pred) ** 2).sum() \n",
    "*   v = the total sum of squares ((y_true - y_true.mean()) ** 2).sum(). \n",
    "\n",
    "The best possible score is 1.0 (perfect prediction) and it can be negative (because the model can be arbitrarily worse). \n",
    "A constant model that always predicts the expected value of y, disregarding the input features, would get a R^2 score of 0.0.\n",
    "\n",
    "<br>\n",
    "\n",
    "ToDo:\n",
    "- Get the score of the model "
   ]
  },
  {
   "cell_type": "code",
   "execution_count": null,
   "metadata": {
    "colab": {
     "base_uri": "https://localhost:8080/",
     "height": 34
    },
    "colab_type": "code",
    "id": "u1iAtkB5kX5j",
    "outputId": "7b59c49e-0237-4e32-85c3-1653e18ec2af"
   },
   "outputs": [],
   "source": [
    "# To get the score we can use the .score method on the model and we pass in both x and y test as parameters - try it out\n"
   ]
  },
  {
   "cell_type": "markdown",
   "metadata": {
    "colab_type": "text",
    "id": "44xuIcRpEcaP"
   },
   "source": [
    "\n",
    "### max_error\n",
    "\n",
    "The max_error function computes the maximum residual error , a metric that captures the worst case error between the predicted value and the true value. In a perfectly fitted single output regression model, max_error would be 0 on the training set and though this would be highly unlikely in the real world, this metric shows the extent of error that the model had when it was fitted."
   ]
  },
  {
   "cell_type": "code",
   "execution_count": null,
   "metadata": {
    "colab": {
     "base_uri": "https://localhost:8080/",
     "height": 34
    },
    "colab_type": "code",
    "id": "h9Ea2hKk5nqU",
    "outputId": "e79ad636-d0bd-4564-b5a1-c716f193e9e9"
   },
   "outputs": [],
   "source": [
    "max_error(y_test, predictions)"
   ]
  },
  {
   "cell_type": "markdown",
   "metadata": {
    "colab_type": "text",
    "id": "yKB3jxCRNZ8p"
   },
   "source": [
    "## Exercises \n",
    "\n",
    "\n",
    "\n",
    "Give some examples of:\n",
    "\n",
    "* Non related variables.\n",
    "* Variables that are increasingly related.\n",
    "* Variables that are decreasingly related.\n",
    "\n",
    "Create your own testing data with very high/low values and see how good your model's predictions are on edge cases.\n",
    "\n"
   ]
  },
  {
   "cell_type": "code",
   "execution_count": null,
   "metadata": {
    "colab": {},
    "colab_type": "code",
    "id": "UsL14p6kQabL"
   },
   "outputs": [],
   "source": [
    "### Add code here to solve the exercise\n"
   ]
  },
  {
   "cell_type": "markdown",
   "metadata": {
    "colab_type": "text",
    "id": "zECjpCXnEN4w"
   },
   "source": [
    "## Multivariate regression \n",
    "\n",
    "It is rare that a dependent variable is explained by only one variable. In this case, an analyst uses multiple regression, which attempts to explain a dependent variable using more than one independent variable. Multiple regressions can be linear and nonlinear.\n",
    "\n",
    " \n",
    "\n",
    "It uses a complex linear equation : \n",
    "\n",
    "\n",
    "    f(x, y, z) = (w1 * x) + (w2 * y) + (w3 * z) \n",
    "\n",
    "    x, y, z = input data \n",
    "\n",
    "    w = weights \n",
    "\n",
    "\n",
    "Example:  \n",
    "\n",
    "    Sales = (w1 * Radio) + (w2 * TV) + (w3 * News) \n",
    "    \n",
    "\n",
    "Whereas simple regression uses the simple straight line equation\n",
    "\n",
    "            y = mx + c\n",
    "\n",
    "\n",
    "            y => prediction\n",
    "            x => input data\n",
    "            m => weight\n",
    "            c => Bias\n",
    "\n",
    "Example:\n",
    "\n",
    "            Sales = (Weight x Radio) + Bias\n",
    "\n",
    "\n",
    "For further information on this Navigate to the  link below for a practical example of using multiple linear regression to predict stock price using two independent variables: interest rate and unemployment rate.\n",
    "\n",
    "https://datatofish.com/multiple-linear-regression-python/"
   ]
  }
 ],
 "metadata": {
  "colab": {
   "collapsed_sections": [],
   "name": "Linear_regression.ipynb",
   "provenance": [],
   "version": "0.3.2"
  },
  "interpreter": {
   "hash": "7812ea015bdcee6f23a998adcdd2ef97c151c0c241b7b7070987d9313e41299d"
  },
  "kernelspec": {
   "display_name": "Python 3 (ipykernel)",
   "language": "python",
   "name": "python3"
  },
  "language_info": {
   "codemirror_mode": {
    "name": "ipython",
    "version": 3
   },
   "file_extension": ".py",
   "mimetype": "text/x-python",
   "name": "python",
   "nbconvert_exporter": "python",
   "pygments_lexer": "ipython3",
   "version": "3.10.4"
  }
 },
 "nbformat": 4,
 "nbformat_minor": 4
}
