{
 "cells": [
  {
   "cell_type": "markdown",
   "metadata": {
    "colab_type": "text",
    "id": "U5i5hj1nMpW1"
   },
   "source": [
    "# 1. Reverse a string\n",
    "\n",
    "Write a function that takes a string and input and returns the exact string in reverse."
   ]
  },
  {
   "cell_type": "code",
   "execution_count": null,
   "metadata": {
    "colab": {},
    "colab_type": "code",
    "id": "AaMqi4hGMpW2"
   },
   "outputs": [],
   "source": [
    "def reverse_string(string):\n",
    "    return string[::-1]"
   ]
  },
  {
   "cell_type": "code",
   "execution_count": null,
   "metadata": {
    "colab": {},
    "colab_type": "code",
    "id": "ymjDZfV0MpW4"
   },
   "outputs": [],
   "source": [
    "# Reverse string tests\n",
    "if (reverse_string('Test') == 'tseT' and\n",
    "    reverse_string('Hello, world!') == '!dlrow ,olleH' and\n",
    "    reverse_string('Test') == 'tseT'):\n",
    "    print ('Success')\n",
    "else:\n",
    "    print ('Fail')"
   ]
  },
  {
   "cell_type": "markdown",
   "metadata": {
    "colab_type": "text",
    "id": "0cwBCdB4MpW6"
   },
   "source": [
    "# 2. Convert string to appropriate type\n",
    "\n",
    "Write a function that converts a string to either an int or a float, depending on if it has a decimal point. It should return 0 for invalid input.\n",
    "\n",
    "E.g.\n",
    "\n",
    "    convert('1.5') -> 1.5\n",
    "    convert('780') -> 780"
   ]
  },
  {
   "cell_type": "code",
   "execution_count": null,
   "metadata": {
    "colab": {},
    "colab_type": "code",
    "id": "CACvkr4KMpW7"
   },
   "outputs": [],
   "source": [
    "def convert(string):\n",
    "    try:\n",
    "        return float(string) if \".\" in string else int(string)\n",
    "    except ValueError:\n",
    "        return 0"
   ]
  },
  {
   "cell_type": "code",
   "execution_count": null,
   "metadata": {
    "colab": {},
    "colab_type": "code",
    "id": "r5QIdZLvMpW8"
   },
   "outputs": [],
   "source": [
    "# Convert tests\n",
    "if (convert('1.5') == 1.5 and\n",
    "    convert('780') == 780 and\n",
    "    convert('pupper') == 0 and\n",
    "    convert('-28.07') == -28.07):\n",
    "    print ('Success')\n",
    "else:\n",
    "    print ('Fail')"
   ]
  },
  {
   "cell_type": "markdown",
   "metadata": {
    "colab_type": "text",
    "id": "IXlnvN7VMpW-"
   },
   "source": [
    "# 3. What can I afford?\n",
    "\n",
    "Write a function that takes a dictionary of shopping items with their associated cost, and a float (your budget), and return a dictionary with the items you can afford with the given budget. Maximise the number of items to be bought."
   ]
  },
  {
   "cell_type": "code",
   "execution_count": null,
   "metadata": {
    "colab": {},
    "colab_type": "code",
    "id": "Dbdy9twpMpW-"
   },
   "outputs": [],
   "source": [
    "def afford(shopping_items, budget):\n",
    "    afforded_items = {}\n",
    "    for key,value in sorted(shopping_items.items(), key=lambda i:i[1], reverse=False):\n",
    "        if sum(list(afforded_items.values())) + value > budget:\n",
    "            break\n",
    "        else:\n",
    "            afforded_items[key] = value\n",
    "    return afforded_items"
   ]
  },
  {
   "cell_type": "code",
   "execution_count": null,
   "metadata": {
    "colab": {},
    "colab_type": "code",
    "id": "jOkqelx4MpXA"
   },
   "outputs": [],
   "source": [
    "# Afford tests\n",
    "afford1 = {\n",
    "    'ketchup': 1.69,\n",
    "    'crisps multipack': 3.50,\n",
    "    'beer': 3.99,\n",
    "    'bread': 0.99,\n",
    "    'salad': 1.20,\n",
    "    'beans': 0.8\n",
    "}\n",
    "afford1_result = {\n",
    "    'ketchup': 1.69,\n",
    "    'crisps multipack': 3.50,\n",
    "    'bread': 0.99,\n",
    "    'salad': 1.20,\n",
    "    'beans': 0.8\n",
    "}\n",
    "budget1 = 10.0\n",
    "\n",
    "afford2 = {\n",
    "    'birthday card': 2.99,\n",
    "    'makeup': 8.00,\n",
    "    'charms': 75.00\n",
    "}\n",
    "afford2_result = {\n",
    "    'birthday card': 2.99,\n",
    "    'makeup': 8.00,\n",
    "    'charms': 75.00\n",
    "}\n",
    "budget2 = 99.99\n",
    "\n",
    "afford3 = {\n",
    "    'tv': 349.0,\n",
    "    'ps4': 280.0,\n",
    "    'sound bar': 99.0,\n",
    "    'games': 100.0,\n",
    "    'accessories': 49.0\n",
    "}\n",
    "afford3_result = {\n",
    "    'sound bar': 99.0,\n",
    "    'games': 100.0,\n",
    "    'accessories': 49.0\n",
    "}\n",
    "budget3 = 500.0\n",
    "\n",
    "if (afford(afford1, budget1) == afford1_result and\n",
    "    afford(afford2, budget2) == afford2_result and\n",
    "    afford(afford3, budget3) == afford3_result):\n",
    "    print ('Success')\n",
    "else:\n",
    "    print ('Fail')"
   ]
  },
  {
   "cell_type": "markdown",
   "metadata": {
    "colab_type": "text",
    "id": "ars3phJYMpXC",
    "tags": []
   },
   "source": [
    "# 4. Sin and Cos graph\n",
    "\n",
    "Create a graph using matplotlib that plots both a Sin and Cos wave from x = 0 to x = 10. It should look something like this:\n",
    "\n",
    "![Sin and Cos plotted](waves.png)\n",
    "\n",
    "Note: Numpy might come in handy!\n"
   ]
  },
  {
   "cell_type": "code",
   "execution_count": null,
   "metadata": {
    "colab": {},
    "colab_type": "code",
    "id": "8U8I6G0RMpXC"
   },
   "outputs": [],
   "source": [
    "%matplotlib inline\n",
    "import matplotlib.pyplot as plt\n",
    "import numpy as np"
   ]
  },
  {
   "cell_type": "code",
   "execution_count": null,
   "metadata": {},
   "outputs": [],
   "source": [
    "fig, (ax1, ax2) = plt.subplots(1, 2, figsize=(20,4))\n",
    "x = np.linspace(0, 10, 200)\n",
    "ax1.plot(x, np.sin(x))\n",
    "ax1.set_title(\"y = sin(x)\")\n",
    "ax1.set_xlabel(\"x\")\n",
    "ax1.set_ylabel(\"y\")\n",
    "ax2.plot(x, np.cos(x))\n",
    "ax2.set_title(\"y = cos(x)\")\n",
    "ax2.set_xlabel(\"x\")\n",
    "ax2.set_ylabel(\"y\")"
   ]
  },
  {
   "cell_type": "markdown",
   "metadata": {},
   "source": [
    "# 5. Pandas Challenges\n"
   ]
  },
  {
   "cell_type": "markdown",
   "metadata": {},
   "source": [
    "In this section, you can find your own datasets here -> https://www.kaggle.com/datasets or can use the iris dataset import plotly.express as px \n",
    "px.data.iris()\n",
    "\n",
    "First test, how do i import pandas?"
   ]
  },
  {
   "cell_type": "code",
   "execution_count": null,
   "metadata": {},
   "outputs": [],
   "source": [
    "import pandas as pd"
   ]
  },
  {
   "cell_type": "code",
   "execution_count": null,
   "metadata": {},
   "outputs": [],
   "source": [
    "import plotly.express as px\n",
    "df = px.data.iris()"
   ]
  },
  {
   "cell_type": "code",
   "execution_count": null,
   "metadata": {},
   "outputs": [],
   "source": [
    "len(df)"
   ]
  },
  {
   "cell_type": "markdown",
   "metadata": {},
   "source": [
    " Display most common value in a given series and replace everything other value as 'Other' in the series"
   ]
  },
  {
   "cell_type": "code",
   "execution_count": null,
   "metadata": {},
   "outputs": [],
   "source": [
    "float(df[\"sepal_length\"].mode())"
   ]
  },
  {
   "cell_type": "code",
   "execution_count": null,
   "metadata": {},
   "outputs": [],
   "source": [
    "df.loc[df[\"sepal_length\"] != float(df[\"sepal_length\"].mode()), \"sepal_length\"] = \"other\"\n",
    "df"
   ]
  },
  {
   "cell_type": "markdown",
   "metadata": {},
   "source": [
    "How to import only every nth row from a csv file to create a dataframe?"
   ]
  },
  {
   "cell_type": "code",
   "execution_count": null,
   "metadata": {},
   "outputs": [],
   "source": [
    "pd.read_csv(\"Iris.csv\", skiprows=np.delete(np.arange(150), np.arange(0, 150, 10)))"
   ]
  },
  {
   "cell_type": "markdown",
   "metadata": {},
   "source": [
    "How to create a dataframe with rows as strides from a given series?"
   ]
  },
  {
   "cell_type": "code",
   "execution_count": null,
   "metadata": {},
   "outputs": [],
   "source": [
    "#3\n",
    "L = pd.Series(range(15))\n",
    "\n",
    "def gen_strides(a, stride_len=5, window_len=5):\n",
    "    n_strides = ((a.size-window_len)//stride_len) + 1\n",
    "    return np.array([a[s:(s+window_len)] for s in np.arange(0, a.size, stride_len)[:n_strides]])\n",
    "\n",
    "gen_strides(L, stride_len=2, window_len=4)"
   ]
  },
  {
   "cell_type": "markdown",
   "metadata": {},
   "source": [
    "# 6. Numpy Challenges\n"
   ]
  },
  {
   "cell_type": "markdown",
   "metadata": {},
   "source": [
    "Create a three-dimension array with shape (12,8,4) and set to a variable"
   ]
  },
  {
   "cell_type": "code",
   "execution_count": null,
   "metadata": {},
   "outputs": [],
   "source": [
    "a = np.zeros((12,8,4))\n",
    "a.shape"
   ]
  },
  {
   "cell_type": "markdown",
   "metadata": {},
   "source": [
    "Get the minimum and maximum value of a given array along the second axis\n",
    "\n",
    "[[10 40]\n",
    "[30 20]]"
   ]
  },
  {
   "cell_type": "code",
   "execution_count": null,
   "metadata": {},
   "outputs": [],
   "source": [
    "a = np.array([[10, 40], [30, 20]])\n",
    "print(a.min(axis=1), a.max(axis=1))"
   ]
  },
  {
   "cell_type": "markdown",
   "metadata": {},
   "source": [
    "Write a NumPy program to check whether each element of a given array is composed of digits only, lower case letters only and upper case letters only\n",
    "['Python' 'Kainos' 'Kain0s' 'Examples' 'html5' '100']"
   ]
  },
  {
   "cell_type": "code",
   "execution_count": null,
   "metadata": {},
   "outputs": [],
   "source": [
    "a = np.array(['Python', 'Kainos', 'Kain0s', 'Examples', 'html5', '100'])"
   ]
  },
  {
   "cell_type": "code",
   "execution_count": null,
   "metadata": {},
   "outputs": [],
   "source": [
    "set(\"abcde\").intersection(set(\"abcd1\"))"
   ]
  },
  {
   "cell_type": "code",
   "execution_count": null,
   "metadata": {},
   "outputs": [],
   "source": [
    "def check(x, method=\"digits\"):\n",
    "    if method==\"digits\":\n",
    "        alphabet = \"1234567890\"\n",
    "    elif method==\"lower\":\n",
    "        alphabet = \"abcdefghijklmnopqrstuvwxyz\"\n",
    "    elif method==\"upper\":\n",
    "        alphabet = \"ABCDEFGHIJKLMNOPQRSTUVWXYZ\"\n",
    "    else:\n",
    "        print(\"method must be digits, lower or upper\")\n",
    "    return len(set(x).intersection(set(alphabet))) == len(set(x))"
   ]
  },
  {
   "cell_type": "code",
   "execution_count": null,
   "metadata": {},
   "outputs": [],
   "source": [
    "np.vectorize(lambda x: check(x, method=\"upper\"))(a)"
   ]
  },
  {
   "cell_type": "code",
   "execution_count": null,
   "metadata": {},
   "outputs": [],
   "source": [
    "#Interpreting the question differently...\n",
    "np.vectorize(lambda x: x.isalnum())(a)"
   ]
  }
 ],
 "metadata": {
  "colab": {
   "collapsed_sections": [],
   "name": "Python Challenges.ipynb",
   "provenance": [],
   "toc_visible": true,
   "version": "0.3.2"
  },
  "interpreter": {
   "hash": "aee8b7b246df8f9039afb4144a1f6fd8d2ca17a180786b69acc140d282b71a49"
  },
  "kernelspec": {
   "display_name": "Python 3 (ipykernel)",
   "language": "python",
   "name": "python3"
  },
  "language_info": {
   "codemirror_mode": {
    "name": "ipython",
    "version": 3
   },
   "file_extension": ".py",
   "mimetype": "text/x-python",
   "name": "python",
   "nbconvert_exporter": "python",
   "pygments_lexer": "ipython3",
   "version": "3.10.4"
  }
 },
 "nbformat": 4,
 "nbformat_minor": 4
}
